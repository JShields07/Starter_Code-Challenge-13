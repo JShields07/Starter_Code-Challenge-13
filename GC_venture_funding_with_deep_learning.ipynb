{
  "cells": [
    {
      "attachments": {},
      "cell_type": "markdown",
      "metadata": {
        "id": "JmEcaJzVURr_"
      },
      "source": [
        "# Venture Funding with Deep Learning\n",
        "\n",
        "You work as a risk management associate at Alphabet Soup, a venture capital firm. Alphabet Soup’s business team receives many funding applications from startups every day. This team has asked you to help them create a model that predicts whether applicants will be successful if funded by Alphabet Soup.\n",
        "\n",
        "The business team has given you a CSV containing more than 34,000 organizations that have received funding from Alphabet Soup over the years. With your knowledge of machine learning and neural networks, you decide to use the features in the provided dataset to create a binary classifier model that will predict whether an applicant will become a successful business. The CSV file contains a variety of information about these businesses, including whether or not they ultimately became successful.\n",
        "\n",
        "## Instructions:\n",
        "\n",
        "The steps for this challenge are broken out into the following sections:\n",
        "\n",
        "* Prepare the data for use on a neural network model.\n",
        "\n",
        "* Compile and evaluate a binary classification model using a neural network.\n",
        "\n",
        "* Optimize the neural network model.\n",
        "\n",
        "### Prepare the Data for Use on a Neural Network Model \n",
        "\n",
        "Using your knowledge of Pandas and scikit-learn’s `StandardScaler()`, preprocess the dataset so that you can use it to compile and evaluate the neural network model later.\n",
        "\n",
        "Open the starter code file, and complete the following data preparation steps:\n",
        "\n",
        "1. Read the `applicants_data.csv` file into a Pandas DataFrame. Review the DataFrame, looking for categorical variables that will need to be encoded, as well as columns that could eventually define your features and target variables.   \n",
        "\n",
        "2. Drop the “EIN” (Employer Identification Number) and “NAME” columns from the DataFrame, because they are not relevant to the binary classification model.\n",
        " \n",
        "3. Encode the dataset’s categorical variables using `OneHotEncoder`, and then place the encoded variables into a new DataFrame.\n",
        "\n",
        "4. Add the original DataFrame’s numerical variables to the DataFrame containing the encoded variables.\n",
        "\n",
        "> **Note** To complete this step, you will employ the Pandas `concat()` function that was introduced earlier in this course. \n",
        "\n",
        "5. Using the preprocessed data, create the features (`X`) and target (`y`) datasets. The target dataset should be defined by the preprocessed DataFrame column “IS_SUCCESSFUL”. The remaining columns should define the features dataset. \n",
        "\n",
        "6. Split the features and target sets into training and testing datasets.\n",
        "\n",
        "7. Use scikit-learn's `StandardScaler` to scale the features data.\n",
        "\n",
        "### Compile and Evaluate a Binary Classification Model Using a Neural Network\n",
        "\n",
        "Use your knowledge of TensorFlow to design a binary classification deep neural network model. This model should use the dataset’s features to predict whether an Alphabet Soup&ndash;funded startup will be successful based on the features in the dataset. Consider the number of inputs before determining the number of layers that your model will contain or the number of neurons on each layer. Then, compile and fit your model. Finally, evaluate your binary classification model to calculate the model’s loss and accuracy. \n",
        " \n",
        "To do so, complete the following steps:\n",
        "\n",
        "1. Create a deep neural network by assigning the number of input features, the number of layers, and the number of neurons on each layer using Tensorflow’s Keras.\n",
        "\n",
        "> **Hint** You can start with a two-layer deep neural network model that uses the `relu` activation function for both layers.\n",
        "\n",
        "2. Compile and fit the model using the `binary_crossentropy` loss function, the `adam` optimizer, and the `accuracy` evaluation metric.\n",
        "\n",
        "> **Hint** When fitting the model, start with a small number of epochs, such as 20, 50, or 100.\n",
        "\n",
        "3. Evaluate the model using the test data to determine the model’s loss and accuracy.\n",
        "\n",
        "4. Save and export your model to an HDF5 file, and name the file `AlphabetSoup.h5`. \n",
        "\n",
        "### Optimize the Neural Network Model\n",
        "\n",
        "Using your knowledge of TensorFlow and Keras, optimize your model to improve the model's accuracy. Even if you do not successfully achieve a better accuracy, you'll need to demonstrate at least two attempts to optimize the model. You can include these attempts in your existing notebook. Or, you can make copies of the starter notebook in the same folder, rename them, and code each model optimization in a new notebook. \n",
        "\n",
        "> **Note** You will not lose points if your model does not achieve a high accuracy, as long as you make at least two attempts to optimize the model.\n",
        "\n",
        "To do so, complete the following steps:\n",
        "\n",
        "1. Define at least three new deep neural network models (the original plus 2 optimization attempts). With each, try to improve on your first model’s predictive accuracy.\n",
        "\n",
        "> **Rewind** Recall that perfect accuracy has a value of 1, so accuracy improves as its value moves closer to 1. To optimize your model for a predictive accuracy as close to 1 as possible, you can use any or all of the following techniques:\n",
        ">\n",
        "> * Adjust the input data by dropping different features columns to ensure that no variables or outliers confuse the model.\n",
        ">\n",
        "> * Add more neurons (nodes) to a hidden layer.\n",
        ">\n",
        "> * Add more hidden layers.\n",
        ">\n",
        "> * Use different activation functions for the hidden layers.\n",
        ">\n",
        "> * Add to or reduce the number of epochs in the training regimen.\n",
        "\n",
        "2. After finishing your models, display the accuracy scores achieved by each model, and compare the results.\n",
        "\n",
        "3. Save each of your models as an HDF5 file.\n"
      ]
    },
    {
      "cell_type": "code",
      "execution_count": 35,
      "metadata": {
        "id": "6XiL4BeyURsD"
      },
      "outputs": [],
      "source": [
        "# Imports\n",
        "import pandas as pd\n",
        "from pathlib import Path\n",
        "import tensorflow as tf\n",
        "from tensorflow.keras.layers import Dense\n",
        "from tensorflow.keras.models import Sequential\n",
        "from sklearn.model_selection import train_test_split\n",
        "from sklearn.preprocessing import StandardScaler,OneHotEncoder\n",
        "from sklearn.compose import ColumnTransformer\n"
      ]
    },
    {
      "attachments": {},
      "cell_type": "markdown",
      "metadata": {
        "id": "JzvfMq--URsD"
      },
      "source": [
        "---\n",
        "\n",
        "## Prepare the data to be used on a neural network model"
      ]
    },
    {
      "attachments": {},
      "cell_type": "markdown",
      "metadata": {
        "id": "pJWhWy1zURsE"
      },
      "source": [
        "### Step 1: Read the `applicants_data.csv` file into a Pandas DataFrame. Review the DataFrame, looking for categorical variables that will need to be encoded, as well as columns that could eventually define your features and target variables.  \n"
      ]
    },
    {
      "cell_type": "code",
      "execution_count": 36,
      "metadata": {
        "id": "gSTFDSzYURsE"
      },
      "outputs": [
        {
          "name": "stdout",
          "output_type": "stream",
          "text": [
            "             EIN                                               NAME  \\\n",
            "0       10520599                       BLUE KNIGHTS MOTORCYCLE CLUB   \n",
            "1       10531628             AMERICAN CHESAPEAKE CLUB CHARITABLE TR   \n",
            "2       10547893                 ST CLOUD PROFESSIONAL FIREFIGHTERS   \n",
            "3       10553066                     SOUTHSIDE ATHLETIC ASSOCIATION   \n",
            "4       10556103           GENETIC RESEARCH INSTITUTE OF THE DESERT   \n",
            "...          ...                                                ...   \n",
            "34294  996009318              THE LIONS CLUB OF HONOLULU KAMEHAMEHA   \n",
            "34295  996010315           INTERNATIONAL ASSOCIATION OF LIONS CLUBS   \n",
            "34296  996012607                                PTA HAWAII CONGRESS   \n",
            "34297  996015768  AMERICAN FEDERATION OF GOVERNMENT EMPLOYEES LO...   \n",
            "34298  996086871                           WATERHOUSE CHARITABLE TR   \n",
            "\n",
            "      APPLICATION_TYPE       AFFILIATION CLASSIFICATION      USE_CASE  \\\n",
            "0                  T10       Independent          C1000    ProductDev   \n",
            "1                   T3       Independent          C2000  Preservation   \n",
            "2                   T5  CompanySponsored          C3000    ProductDev   \n",
            "3                   T3  CompanySponsored          C2000  Preservation   \n",
            "4                   T3       Independent          C1000     Heathcare   \n",
            "...                ...               ...            ...           ...   \n",
            "34294               T4       Independent          C1000    ProductDev   \n",
            "34295               T4  CompanySponsored          C3000    ProductDev   \n",
            "34296               T3  CompanySponsored          C2000  Preservation   \n",
            "34297               T5       Independent          C3000    ProductDev   \n",
            "34298               T3       Independent          C1000  Preservation   \n",
            "\n",
            "       ORGANIZATION  STATUS     INCOME_AMT SPECIAL_CONSIDERATIONS   ASK_AMT  \\\n",
            "0       Association       1              0                      N      5000   \n",
            "1      Co-operative       1         1-9999                      N    108590   \n",
            "2       Association       1              0                      N      5000   \n",
            "3             Trust       1    10000-24999                      N      6692   \n",
            "4             Trust       1  100000-499999                      N    142590   \n",
            "...             ...     ...            ...                    ...       ...   \n",
            "34294   Association       1              0                      N      5000   \n",
            "34295   Association       1              0                      N      5000   \n",
            "34296   Association       1              0                      N      5000   \n",
            "34297   Association       1              0                      N      5000   \n",
            "34298  Co-operative       1          1M-5M                      N  36500179   \n",
            "\n",
            "       IS_SUCCESSFUL  \n",
            "0                  1  \n",
            "1                  1  \n",
            "2                  0  \n",
            "3                  1  \n",
            "4                  1  \n",
            "...              ...  \n",
            "34294              0  \n",
            "34295              0  \n",
            "34296              0  \n",
            "34297              1  \n",
            "34298              0  \n",
            "\n",
            "[34299 rows x 12 columns]\n"
          ]
        }
      ],
      "source": [
        "# Read the applicants_data.csv file from the Resources folder into a Pandas DataFrame\n",
        "applicant_data_df = pd.read_csv(\"Resources/applicants_data.csv\")\n",
        "\n",
        "# Review the DataFrame\n",
        "# YOUR CODE HERE\n",
        "print(applicant_data_df)"
      ]
    },
    {
      "cell_type": "code",
      "execution_count": 37,
      "metadata": {
        "id": "C-WB0yc4URsE"
      },
      "outputs": [
        {
          "name": "stdout",
          "output_type": "stream",
          "text": [
            "EIN                        int64\n",
            "NAME                      object\n",
            "APPLICATION_TYPE          object\n",
            "AFFILIATION               object\n",
            "CLASSIFICATION            object\n",
            "USE_CASE                  object\n",
            "ORGANIZATION              object\n",
            "STATUS                     int64\n",
            "INCOME_AMT                object\n",
            "SPECIAL_CONSIDERATIONS    object\n",
            "ASK_AMT                    int64\n",
            "IS_SUCCESSFUL              int64\n",
            "dtype: object\n"
          ]
        }
      ],
      "source": [
        "# Review the data types associated with the columns\n",
        "# YOUR CODE HERE\n",
        "print(applicant_data_df.dtypes)"
      ]
    },
    {
      "attachments": {},
      "cell_type": "markdown",
      "metadata": {
        "id": "XCwg3ahTURsE"
      },
      "source": [
        "### Step 2: Drop the “EIN” (Employer Identification Number) and “NAME” columns from the DataFrame, because they are not relevant to the binary classification model."
      ]
    },
    {
      "cell_type": "code",
      "execution_count": 38,
      "metadata": {
        "id": "dj7yoYaAURsE"
      },
      "outputs": [
        {
          "name": "stdout",
          "output_type": "stream",
          "text": [
            "      APPLICATION_TYPE       AFFILIATION CLASSIFICATION      USE_CASE  \\\n",
            "0                  T10       Independent          C1000    ProductDev   \n",
            "1                   T3       Independent          C2000  Preservation   \n",
            "2                   T5  CompanySponsored          C3000    ProductDev   \n",
            "3                   T3  CompanySponsored          C2000  Preservation   \n",
            "4                   T3       Independent          C1000     Heathcare   \n",
            "...                ...               ...            ...           ...   \n",
            "34294               T4       Independent          C1000    ProductDev   \n",
            "34295               T4  CompanySponsored          C3000    ProductDev   \n",
            "34296               T3  CompanySponsored          C2000  Preservation   \n",
            "34297               T5       Independent          C3000    ProductDev   \n",
            "34298               T3       Independent          C1000  Preservation   \n",
            "\n",
            "       ORGANIZATION  STATUS     INCOME_AMT SPECIAL_CONSIDERATIONS   ASK_AMT  \\\n",
            "0       Association       1              0                      N      5000   \n",
            "1      Co-operative       1         1-9999                      N    108590   \n",
            "2       Association       1              0                      N      5000   \n",
            "3             Trust       1    10000-24999                      N      6692   \n",
            "4             Trust       1  100000-499999                      N    142590   \n",
            "...             ...     ...            ...                    ...       ...   \n",
            "34294   Association       1              0                      N      5000   \n",
            "34295   Association       1              0                      N      5000   \n",
            "34296   Association       1              0                      N      5000   \n",
            "34297   Association       1              0                      N      5000   \n",
            "34298  Co-operative       1          1M-5M                      N  36500179   \n",
            "\n",
            "       IS_SUCCESSFUL  \n",
            "0                  1  \n",
            "1                  1  \n",
            "2                  0  \n",
            "3                  1  \n",
            "4                  1  \n",
            "...              ...  \n",
            "34294              0  \n",
            "34295              0  \n",
            "34296              0  \n",
            "34297              1  \n",
            "34298              0  \n",
            "\n",
            "[34299 rows x 10 columns]\n"
          ]
        }
      ],
      "source": [
        "# Drop the 'EIN' and 'NAME' columns from the DataFrame\n",
        "applicant_data_df = applicant_data_df.drop(['EIN', 'NAME'], axis=1)\n",
        "\n",
        "# Review the DataFrame\n",
        "# YOUR CODE HERE\n",
        "print(applicant_data_df)\n"
      ]
    },
    {
      "attachments": {},
      "cell_type": "markdown",
      "metadata": {
        "id": "WFF35NwZURsF"
      },
      "source": [
        "### Step 3: Encode the dataset’s categorical variables using `OneHotEncoder`, and then place the encoded variables into a new DataFrame."
      ]
    },
    {
      "cell_type": "code",
      "execution_count": 39,
      "metadata": {
        "id": "aHv_okM7URsF"
      },
      "outputs": [
        {
          "name": "stdout",
          "output_type": "stream",
          "text": [
            "['APPLICATION_TYPE', 'AFFILIATION', 'CLASSIFICATION', 'USE_CASE', 'ORGANIZATION', 'INCOME_AMT', 'SPECIAL_CONSIDERATIONS']\n"
          ]
        }
      ],
      "source": [
        "# Create a list of categorical variables \n",
        "categorical_variables = list(applicant_data_df.select_dtypes(include=['object']).columns)\n",
        "\n",
        "\n",
        "# Display the categorical variables list\n",
        "# YOUR CODE HERE\n",
        "print(categorical_variables)"
      ]
    },
    {
      "cell_type": "code",
      "execution_count": 40,
      "metadata": {
        "id": "IizC83_xURsF"
      },
      "outputs": [
        {
          "data": {
            "text/plain": [
              "OneHotEncoder()"
            ]
          },
          "execution_count": 40,
          "metadata": {},
          "output_type": "execute_result"
        }
      ],
      "source": [
        "# Create a OneHotEncoder instance\n",
        "enc = OneHotEncoder()\n",
        "\n",
        "enc.fit(applicant_data_df[categorical_variables])"
      ]
    },
    {
      "cell_type": "code",
      "execution_count": 41,
      "metadata": {
        "id": "fLUlCo48URsF"
      },
      "outputs": [],
      "source": [
        "# Encode the categorcal variables using OneHotEncoder\n",
        "encoded_data = enc.transform(applicant_data_df[categorical_variables]).toarray()\n"
      ]
    },
    {
      "cell_type": "code",
      "execution_count": 42,
      "metadata": {
        "id": "Bj-Hc08qURsF"
      },
      "outputs": [
        {
          "name": "stdout",
          "output_type": "stream",
          "text": [
            "       APPLICATION_TYPE_T10  APPLICATION_TYPE_T12  APPLICATION_TYPE_T13  \\\n",
            "0                       1.0                   0.0                   0.0   \n",
            "1                       0.0                   0.0                   0.0   \n",
            "2                       0.0                   0.0                   0.0   \n",
            "3                       0.0                   0.0                   0.0   \n",
            "4                       0.0                   0.0                   0.0   \n",
            "...                     ...                   ...                   ...   \n",
            "34294                   0.0                   0.0                   0.0   \n",
            "34295                   0.0                   0.0                   0.0   \n",
            "34296                   0.0                   0.0                   0.0   \n",
            "34297                   0.0                   0.0                   0.0   \n",
            "34298                   0.0                   0.0                   0.0   \n",
            "\n",
            "       APPLICATION_TYPE_T14  APPLICATION_TYPE_T15  APPLICATION_TYPE_T17  \\\n",
            "0                       0.0                   0.0                   0.0   \n",
            "1                       0.0                   0.0                   0.0   \n",
            "2                       0.0                   0.0                   0.0   \n",
            "3                       0.0                   0.0                   0.0   \n",
            "4                       0.0                   0.0                   0.0   \n",
            "...                     ...                   ...                   ...   \n",
            "34294                   0.0                   0.0                   0.0   \n",
            "34295                   0.0                   0.0                   0.0   \n",
            "34296                   0.0                   0.0                   0.0   \n",
            "34297                   0.0                   0.0                   0.0   \n",
            "34298                   0.0                   0.0                   0.0   \n",
            "\n",
            "       APPLICATION_TYPE_T19  APPLICATION_TYPE_T2  APPLICATION_TYPE_T25  \\\n",
            "0                       0.0                  0.0                   0.0   \n",
            "1                       0.0                  0.0                   0.0   \n",
            "2                       0.0                  0.0                   0.0   \n",
            "3                       0.0                  0.0                   0.0   \n",
            "4                       0.0                  0.0                   0.0   \n",
            "...                     ...                  ...                   ...   \n",
            "34294                   0.0                  0.0                   0.0   \n",
            "34295                   0.0                  0.0                   0.0   \n",
            "34296                   0.0                  0.0                   0.0   \n",
            "34297                   0.0                  0.0                   0.0   \n",
            "34298                   0.0                  0.0                   0.0   \n",
            "\n",
            "       APPLICATION_TYPE_T29  ...  INCOME_AMT_1-9999  INCOME_AMT_10000-24999  \\\n",
            "0                       0.0  ...                0.0                     0.0   \n",
            "1                       0.0  ...                1.0                     0.0   \n",
            "2                       0.0  ...                0.0                     0.0   \n",
            "3                       0.0  ...                0.0                     1.0   \n",
            "4                       0.0  ...                0.0                     0.0   \n",
            "...                     ...  ...                ...                     ...   \n",
            "34294                   0.0  ...                0.0                     0.0   \n",
            "34295                   0.0  ...                0.0                     0.0   \n",
            "34296                   0.0  ...                0.0                     0.0   \n",
            "34297                   0.0  ...                0.0                     0.0   \n",
            "34298                   0.0  ...                0.0                     0.0   \n",
            "\n",
            "       INCOME_AMT_100000-499999  INCOME_AMT_10M-50M  INCOME_AMT_1M-5M  \\\n",
            "0                           0.0                 0.0               0.0   \n",
            "1                           0.0                 0.0               0.0   \n",
            "2                           0.0                 0.0               0.0   \n",
            "3                           0.0                 0.0               0.0   \n",
            "4                           1.0                 0.0               0.0   \n",
            "...                         ...                 ...               ...   \n",
            "34294                       0.0                 0.0               0.0   \n",
            "34295                       0.0                 0.0               0.0   \n",
            "34296                       0.0                 0.0               0.0   \n",
            "34297                       0.0                 0.0               0.0   \n",
            "34298                       0.0                 0.0               1.0   \n",
            "\n",
            "       INCOME_AMT_25000-99999  INCOME_AMT_50M+  INCOME_AMT_5M-10M  \\\n",
            "0                         0.0              0.0                0.0   \n",
            "1                         0.0              0.0                0.0   \n",
            "2                         0.0              0.0                0.0   \n",
            "3                         0.0              0.0                0.0   \n",
            "4                         0.0              0.0                0.0   \n",
            "...                       ...              ...                ...   \n",
            "34294                     0.0              0.0                0.0   \n",
            "34295                     0.0              0.0                0.0   \n",
            "34296                     0.0              0.0                0.0   \n",
            "34297                     0.0              0.0                0.0   \n",
            "34298                     0.0              0.0                0.0   \n",
            "\n",
            "       SPECIAL_CONSIDERATIONS_N  SPECIAL_CONSIDERATIONS_Y  \n",
            "0                           1.0                       0.0  \n",
            "1                           1.0                       0.0  \n",
            "2                           1.0                       0.0  \n",
            "3                           1.0                       0.0  \n",
            "4                           1.0                       0.0  \n",
            "...                         ...                       ...  \n",
            "34294                       1.0                       0.0  \n",
            "34295                       1.0                       0.0  \n",
            "34296                       1.0                       0.0  \n",
            "34297                       1.0                       0.0  \n",
            "34298                       1.0                       0.0  \n",
            "\n",
            "[34299 rows x 114 columns]\n"
          ]
        },
        {
          "name": "stderr",
          "output_type": "stream",
          "text": [
            "c:\\Users\\jakes\\Anaconda3\\envs\\dev\\lib\\site-packages\\sklearn\\utils\\deprecation.py:87: FutureWarning: Function get_feature_names is deprecated; get_feature_names is deprecated in 1.0 and will be removed in 1.2. Please use get_feature_names_out instead.\n",
            "  warnings.warn(msg, category=FutureWarning)\n"
          ]
        }
      ],
      "source": [
        "# Create a DataFrame with the encoded variables\n",
        "encoded_df = pd.DataFrame(encoded_data, columns=enc.get_feature_names(categorical_variables))\n",
        "\n",
        "# Review the DataFrame\n",
        "# YOUR CODE HERE\n",
        "print(encoded_df)"
      ]
    },
    {
      "attachments": {},
      "cell_type": "markdown",
      "metadata": {
        "id": "A8Bd0AQTURsF"
      },
      "source": [
        "### Step 4: Add the original DataFrame’s numerical variables to the DataFrame containing the encoded variables.\n",
        "\n",
        "> **Note** To complete this step, you will employ the Pandas `concat()` function that was introduced earlier in this course. "
      ]
    },
    {
      "cell_type": "code",
      "execution_count": 43,
      "metadata": {},
      "outputs": [],
      "source": [
        "numerical_columns = ['ASK_AMT']"
      ]
    },
    {
      "cell_type": "code",
      "execution_count": 44,
      "metadata": {
        "id": "r43_PQpFURsG"
      },
      "outputs": [
        {
          "name": "stdout",
          "output_type": "stream",
          "text": [
            "       APPLICATION_TYPE_T10  APPLICATION_TYPE_T12  APPLICATION_TYPE_T13  \\\n",
            "0                       1.0                   0.0                   0.0   \n",
            "1                       0.0                   0.0                   0.0   \n",
            "2                       0.0                   0.0                   0.0   \n",
            "3                       0.0                   0.0                   0.0   \n",
            "4                       0.0                   0.0                   0.0   \n",
            "...                     ...                   ...                   ...   \n",
            "34294                   0.0                   0.0                   0.0   \n",
            "34295                   0.0                   0.0                   0.0   \n",
            "34296                   0.0                   0.0                   0.0   \n",
            "34297                   0.0                   0.0                   0.0   \n",
            "34298                   0.0                   0.0                   0.0   \n",
            "\n",
            "       APPLICATION_TYPE_T14  APPLICATION_TYPE_T15  APPLICATION_TYPE_T17  \\\n",
            "0                       0.0                   0.0                   0.0   \n",
            "1                       0.0                   0.0                   0.0   \n",
            "2                       0.0                   0.0                   0.0   \n",
            "3                       0.0                   0.0                   0.0   \n",
            "4                       0.0                   0.0                   0.0   \n",
            "...                     ...                   ...                   ...   \n",
            "34294                   0.0                   0.0                   0.0   \n",
            "34295                   0.0                   0.0                   0.0   \n",
            "34296                   0.0                   0.0                   0.0   \n",
            "34297                   0.0                   0.0                   0.0   \n",
            "34298                   0.0                   0.0                   0.0   \n",
            "\n",
            "       APPLICATION_TYPE_T19  APPLICATION_TYPE_T2  APPLICATION_TYPE_T25  \\\n",
            "0                       0.0                  0.0                   0.0   \n",
            "1                       0.0                  0.0                   0.0   \n",
            "2                       0.0                  0.0                   0.0   \n",
            "3                       0.0                  0.0                   0.0   \n",
            "4                       0.0                  0.0                   0.0   \n",
            "...                     ...                  ...                   ...   \n",
            "34294                   0.0                  0.0                   0.0   \n",
            "34295                   0.0                  0.0                   0.0   \n",
            "34296                   0.0                  0.0                   0.0   \n",
            "34297                   0.0                  0.0                   0.0   \n",
            "34298                   0.0                  0.0                   0.0   \n",
            "\n",
            "       APPLICATION_TYPE_T29  ...  INCOME_AMT_10000-24999  \\\n",
            "0                       0.0  ...                     0.0   \n",
            "1                       0.0  ...                     0.0   \n",
            "2                       0.0  ...                     0.0   \n",
            "3                       0.0  ...                     1.0   \n",
            "4                       0.0  ...                     0.0   \n",
            "...                     ...  ...                     ...   \n",
            "34294                   0.0  ...                     0.0   \n",
            "34295                   0.0  ...                     0.0   \n",
            "34296                   0.0  ...                     0.0   \n",
            "34297                   0.0  ...                     0.0   \n",
            "34298                   0.0  ...                     0.0   \n",
            "\n",
            "       INCOME_AMT_100000-499999  INCOME_AMT_10M-50M  INCOME_AMT_1M-5M  \\\n",
            "0                           0.0                 0.0               0.0   \n",
            "1                           0.0                 0.0               0.0   \n",
            "2                           0.0                 0.0               0.0   \n",
            "3                           0.0                 0.0               0.0   \n",
            "4                           1.0                 0.0               0.0   \n",
            "...                         ...                 ...               ...   \n",
            "34294                       0.0                 0.0               0.0   \n",
            "34295                       0.0                 0.0               0.0   \n",
            "34296                       0.0                 0.0               0.0   \n",
            "34297                       0.0                 0.0               0.0   \n",
            "34298                       0.0                 0.0               1.0   \n",
            "\n",
            "       INCOME_AMT_25000-99999  INCOME_AMT_50M+  INCOME_AMT_5M-10M  \\\n",
            "0                         0.0              0.0                0.0   \n",
            "1                         0.0              0.0                0.0   \n",
            "2                         0.0              0.0                0.0   \n",
            "3                         0.0              0.0                0.0   \n",
            "4                         0.0              0.0                0.0   \n",
            "...                       ...              ...                ...   \n",
            "34294                     0.0              0.0                0.0   \n",
            "34295                     0.0              0.0                0.0   \n",
            "34296                     0.0              0.0                0.0   \n",
            "34297                     0.0              0.0                0.0   \n",
            "34298                     0.0              0.0                0.0   \n",
            "\n",
            "       SPECIAL_CONSIDERATIONS_N  SPECIAL_CONSIDERATIONS_Y   ASK_AMT  \n",
            "0                           1.0                       0.0      5000  \n",
            "1                           1.0                       0.0    108590  \n",
            "2                           1.0                       0.0      5000  \n",
            "3                           1.0                       0.0      6692  \n",
            "4                           1.0                       0.0    142590  \n",
            "...                         ...                       ...       ...  \n",
            "34294                       1.0                       0.0      5000  \n",
            "34295                       1.0                       0.0      5000  \n",
            "34296                       1.0                       0.0      5000  \n",
            "34297                       1.0                       0.0      5000  \n",
            "34298                       1.0                       0.0  36500179  \n",
            "\n",
            "[34299 rows x 115 columns]\n"
          ]
        }
      ],
      "source": [
        "# Add the numerical variables from the original DataFrame to the one-hot encoding DataFrame\n",
        "encoded_df = pd.concat([encoded_df, applicant_data_df[numerical_columns]], axis=1)\n",
        "\n",
        "# Review the Dataframe\n",
        "# YOUR CODE HERE\n",
        "print(encoded_df)"
      ]
    },
    {
      "attachments": {},
      "cell_type": "markdown",
      "metadata": {
        "id": "RJHzn3uyURsG"
      },
      "source": [
        "### Step 5: Using the preprocessed data, create the features (`X`) and target (`y`) datasets. The target dataset should be defined by the preprocessed DataFrame column “IS_SUCCESSFUL”. The remaining columns should define the features dataset. \n",
        "\n"
      ]
    },
    {
      "cell_type": "code",
      "execution_count": 45,
      "metadata": {
        "id": "XpmWKy35URsG"
      },
      "outputs": [
        {
          "name": "stdout",
          "output_type": "stream",
          "text": [
            "0    1\n",
            "1    1\n",
            "2    0\n",
            "3    1\n",
            "4    1\n",
            "Name: IS_SUCCESSFUL, dtype: int64\n"
          ]
        }
      ],
      "source": [
        "# Define the target set y using the IS_SUCCESSFUL column\n",
        "y = applicant_data_df['IS_SUCCESSFUL']\n",
        "\n",
        "# Display a sample of y\n",
        "# YOUR CODE HERE\n",
        "print(y.head())"
      ]
    },
    {
      "cell_type": "code",
      "execution_count": 46,
      "metadata": {
        "id": "SzVEfRlaURsG"
      },
      "outputs": [
        {
          "name": "stdout",
          "output_type": "stream",
          "text": [
            "  APPLICATION_TYPE       AFFILIATION CLASSIFICATION      USE_CASE  \\\n",
            "0              T10       Independent          C1000    ProductDev   \n",
            "1               T3       Independent          C2000  Preservation   \n",
            "2               T5  CompanySponsored          C3000    ProductDev   \n",
            "3               T3  CompanySponsored          C2000  Preservation   \n",
            "4               T3       Independent          C1000     Heathcare   \n",
            "\n",
            "   ORGANIZATION  STATUS     INCOME_AMT SPECIAL_CONSIDERATIONS  ASK_AMT  \n",
            "0   Association       1              0                      N     5000  \n",
            "1  Co-operative       1         1-9999                      N   108590  \n",
            "2   Association       1              0                      N     5000  \n",
            "3         Trust       1    10000-24999                      N     6692  \n",
            "4         Trust       1  100000-499999                      N   142590  \n"
          ]
        }
      ],
      "source": [
        "# Define features set X by selecting all columns but IS_SUCCESSFUL\n",
        "X = applicant_data_df.drop('IS_SUCCESSFUL', axis=1)\n",
        "\n",
        "# Review the features DataFrame\n",
        "# YOUR CODE HERE\n",
        "print(X.head())\n"
      ]
    },
    {
      "attachments": {},
      "cell_type": "markdown",
      "metadata": {
        "id": "Wgb0PFDKURsG"
      },
      "source": [
        "### Step 6: Split the features and target sets into training and testing datasets.\n"
      ]
    },
    {
      "cell_type": "code",
      "execution_count": 47,
      "metadata": {
        "colab": {
          "base_uri": "https://localhost:8080/",
          "height": 130
        },
        "id": "M_vGfjV4URsG",
        "outputId": "3e4d5433-5f56-45a7-8a68-ec877a10e6f2"
      },
      "outputs": [],
      "source": [
        "# Split the preprocessed data into a training and testing dataset\n",
        "# Assign the function a random_state equal to 1\n",
        "X_train, X_test, y_train, y_test = train_test_split(encoded_df, y, random_state=1)\n",
        "\n"
      ]
    },
    {
      "cell_type": "code",
      "execution_count": 48,
      "metadata": {},
      "outputs": [
        {
          "name": "stdout",
          "output_type": "stream",
          "text": [
            "X_train shape: (25724, 115)\n",
            "X_test shape: (8575, 115)\n",
            "y_train shape: (25724,)\n",
            "y_test shape: (8575,)\n"
          ]
        }
      ],
      "source": [
        "print(f\"X_train shape: {X_train.shape}\")\n",
        "print(f\"X_test shape: {X_test.shape}\")\n",
        "print(f\"y_train shape: {y_train.shape}\")\n",
        "print(f\"y_test shape: {y_test.shape}\")"
      ]
    },
    {
      "attachments": {},
      "cell_type": "markdown",
      "metadata": {},
      "source": [
        "I couldn't get the previous two cells to work without sourcing external help."
      ]
    },
    {
      "attachments": {},
      "cell_type": "markdown",
      "metadata": {
        "id": "hDcNY8TGURsG"
      },
      "source": [
        "### Step 7: Use scikit-learn's `StandardScaler` to scale the features data."
      ]
    },
    {
      "cell_type": "code",
      "execution_count": 49,
      "metadata": {
        "id": "MWOH8vl-URsG"
      },
      "outputs": [],
      "source": [
        "# Create a StandardScaler instance\n",
        "scaler = StandardScaler()\n",
        "\n",
        "# Fit the scaler to the features training dataset\n",
        "X_scaler = scaler.fit(X_train)\n",
        "\n",
        "# Fit the scaler to the features training dataset\n",
        "X_train_scaled = X_scaler.transform(X_train)\n",
        "X_test_scaled = X_scaler.transform(X_test)\n"
      ]
    },
    {
      "attachments": {},
      "cell_type": "markdown",
      "metadata": {
        "id": "RvE_rJAAURsH"
      },
      "source": [
        "---\n",
        "\n",
        "## Compile and Evaluate a Binary Classification Model Using a Neural Network"
      ]
    },
    {
      "attachments": {},
      "cell_type": "markdown",
      "metadata": {
        "id": "mLD8vtTqURsH"
      },
      "source": [
        "### Step 1: Create a deep neural network by assigning the number of input features, the number of layers, and the number of neurons on each layer using Tensorflow’s Keras.\n",
        "\n",
        "> **Hint** You can start with a two-layer deep neural network model that uses the `relu` activation function for both layers.\n"
      ]
    },
    {
      "cell_type": "code",
      "execution_count": 50,
      "metadata": {
        "id": "K1Vgwz04URsH"
      },
      "outputs": [
        {
          "name": "stdout",
          "output_type": "stream",
          "text": [
            "115\n"
          ]
        }
      ],
      "source": [
        "# Define the the number of inputs (features) to the model\n",
        "number_input_features = X_train_scaled.shape[1]\n",
        "\n",
        "# Review the number of features\n",
        "print(number_input_features)\n"
      ]
    },
    {
      "cell_type": "code",
      "execution_count": 51,
      "metadata": {
        "id": "0mcgkl8SURsH"
      },
      "outputs": [],
      "source": [
        "# Define the number of neurons in the output layer\n",
        "number_output_neurons = (2/3)*number_input_features"
      ]
    },
    {
      "cell_type": "code",
      "execution_count": 52,
      "metadata": {
        "id": "i0Q3iY3wURsH"
      },
      "outputs": [
        {
          "data": {
            "text/plain": [
              "50"
            ]
          },
          "execution_count": 52,
          "metadata": {},
          "output_type": "execute_result"
        }
      ],
      "source": [
        "# Define the number of hidden nodes for the first hidden layer\n",
        "hidden_nodes_layer1 =  50\n",
        "\n",
        "# Review the number hidden nodes in the first layer\n",
        "hidden_nodes_layer1\n"
      ]
    },
    {
      "cell_type": "code",
      "execution_count": 53,
      "metadata": {
        "id": "Ux_lAsrvURsH"
      },
      "outputs": [
        {
          "data": {
            "text/plain": [
              "50"
            ]
          },
          "execution_count": 53,
          "metadata": {},
          "output_type": "execute_result"
        }
      ],
      "source": [
        "# Define the number of hidden nodes for the second hidden layer\n",
        "hidden_nodes_layer2 = 50\n",
        "\n",
        "\n",
        "# Review the number hidden nodes in the second layer\n",
        "hidden_nodes_layer2\n"
      ]
    },
    {
      "cell_type": "code",
      "execution_count": 54,
      "metadata": {
        "id": "1kq9QWhLURsH"
      },
      "outputs": [],
      "source": [
        "# Create the Sequential model instance\n",
        "nn = Sequential()\n"
      ]
    },
    {
      "cell_type": "code",
      "execution_count": 55,
      "metadata": {
        "id": "NcVrWCD_URsI"
      },
      "outputs": [],
      "source": [
        "# Add the first hidden layer\n",
        "# YOUR CODE HERE\n",
        "nn.add(Dense(units=hidden_nodes_layer1, input_dim=number_input_features, activation=\"relu\"))\n"
      ]
    },
    {
      "cell_type": "code",
      "execution_count": 56,
      "metadata": {
        "id": "Ugxr6lisURsI"
      },
      "outputs": [],
      "source": [
        "# Add the second hidden layer\n",
        "# YOUR CODE HERE\n",
        "nn.add(Dense(units=hidden_nodes_layer2, activation=\"relu\"))"
      ]
    },
    {
      "cell_type": "code",
      "execution_count": 57,
      "metadata": {
        "id": "QxcGEyNoURsI"
      },
      "outputs": [],
      "source": [
        "# Add the output layer to the model specifying the number of output neurons and activation function\n",
        "# YOUR CODE HERE\n",
        "nn.add(Dense(units=1, activation=\"sigmoid\"))\n",
        "\n"
      ]
    },
    {
      "cell_type": "code",
      "execution_count": 58,
      "metadata": {
        "id": "1L2ZVcXgURsI"
      },
      "outputs": [
        {
          "name": "stdout",
          "output_type": "stream",
          "text": [
            "Model: \"sequential_1\"\n",
            "_________________________________________________________________\n",
            " Layer (type)                Output Shape              Param #   \n",
            "=================================================================\n",
            " dense_3 (Dense)             (None, 50)                5800      \n",
            "                                                                 \n",
            " dense_4 (Dense)             (None, 50)                2550      \n",
            "                                                                 \n",
            " dense_5 (Dense)             (None, 1)                 51        \n",
            "                                                                 \n",
            "=================================================================\n",
            "Total params: 8,401\n",
            "Trainable params: 8,401\n",
            "Non-trainable params: 0\n",
            "_________________________________________________________________\n"
          ]
        }
      ],
      "source": [
        "# Display the Sequential model summary\n",
        "# YOUR CODE HERE\n",
        "nn.summary()\n"
      ]
    },
    {
      "attachments": {},
      "cell_type": "markdown",
      "metadata": {
        "id": "pzoKsvI3URsI"
      },
      "source": [
        "### Step 2: Compile and fit the model using the `binary_crossentropy` loss function, the `adam` optimizer, and the `accuracy` evaluation metric.\n"
      ]
    },
    {
      "cell_type": "code",
      "execution_count": 59,
      "metadata": {
        "id": "PR8r_cL1URsI"
      },
      "outputs": [],
      "source": [
        "# Compile the Sequential model\n",
        "# YOUR CODE HERE\n",
        "nn.compile(optimizer='adam', loss='binary_crossentropy', metrics=['accuracy'])\n"
      ]
    },
    {
      "cell_type": "code",
      "execution_count": 60,
      "metadata": {
        "id": "5_z-FPHJURsI"
      },
      "outputs": [
        {
          "name": "stdout",
          "output_type": "stream",
          "text": [
            "Epoch 1/50\n",
            "804/804 [==============================] - 1s 818us/step - loss: 0.5783 - accuracy: 0.7180\n",
            "Epoch 2/50\n",
            "804/804 [==============================] - 1s 796us/step - loss: 0.5532 - accuracy: 0.7294\n",
            "Epoch 3/50\n",
            "804/804 [==============================] - 1s 851us/step - loss: 0.5496 - accuracy: 0.7301\n",
            "Epoch 4/50\n",
            "804/804 [==============================] - 1s 830us/step - loss: 0.5477 - accuracy: 0.7318\n",
            "Epoch 5/50\n",
            "804/804 [==============================] - 1s 810us/step - loss: 0.5466 - accuracy: 0.7332\n",
            "Epoch 6/50\n",
            "804/804 [==============================] - 1s 813us/step - loss: 0.5450 - accuracy: 0.7324\n",
            "Epoch 7/50\n",
            "804/804 [==============================] - 1s 802us/step - loss: 0.5449 - accuracy: 0.7328\n",
            "Epoch 8/50\n",
            "804/804 [==============================] - 1s 785us/step - loss: 0.5435 - accuracy: 0.7329\n",
            "Epoch 9/50\n",
            "804/804 [==============================] - 1s 783us/step - loss: 0.5430 - accuracy: 0.7343\n",
            "Epoch 10/50\n",
            "804/804 [==============================] - 1s 781us/step - loss: 0.5418 - accuracy: 0.7357\n",
            "Epoch 11/50\n",
            "804/804 [==============================] - 1s 804us/step - loss: 0.5415 - accuracy: 0.7348\n",
            "Epoch 12/50\n",
            "804/804 [==============================] - 1s 828us/step - loss: 0.5412 - accuracy: 0.7354\n",
            "Epoch 13/50\n",
            "804/804 [==============================] - 1s 827us/step - loss: 0.5403 - accuracy: 0.7359\n",
            "Epoch 14/50\n",
            "804/804 [==============================] - 1s 829us/step - loss: 0.5402 - accuracy: 0.7356\n",
            "Epoch 15/50\n",
            "804/804 [==============================] - 1s 869us/step - loss: 0.5399 - accuracy: 0.7365\n",
            "Epoch 16/50\n",
            "804/804 [==============================] - 1s 819us/step - loss: 0.5389 - accuracy: 0.7374\n",
            "Epoch 17/50\n",
            "804/804 [==============================] - 1s 839us/step - loss: 0.5389 - accuracy: 0.7376\n",
            "Epoch 18/50\n",
            "804/804 [==============================] - 1s 827us/step - loss: 0.5388 - accuracy: 0.7360\n",
            "Epoch 19/50\n",
            "804/804 [==============================] - 1s 811us/step - loss: 0.5380 - accuracy: 0.7377\n",
            "Epoch 20/50\n",
            "804/804 [==============================] - 1s 816us/step - loss: 0.5380 - accuracy: 0.7374\n",
            "Epoch 21/50\n",
            "804/804 [==============================] - 1s 825us/step - loss: 0.5378 - accuracy: 0.7385\n",
            "Epoch 22/50\n",
            "804/804 [==============================] - 1s 824us/step - loss: 0.5374 - accuracy: 0.7381\n",
            "Epoch 23/50\n",
            "804/804 [==============================] - 1s 813us/step - loss: 0.5372 - accuracy: 0.7382\n",
            "Epoch 24/50\n",
            "804/804 [==============================] - 1s 843us/step - loss: 0.5368 - accuracy: 0.7378\n",
            "Epoch 25/50\n",
            "804/804 [==============================] - 1s 815us/step - loss: 0.5367 - accuracy: 0.7392\n",
            "Epoch 26/50\n",
            "804/804 [==============================] - 1s 834us/step - loss: 0.5361 - accuracy: 0.7383\n",
            "Epoch 27/50\n",
            "804/804 [==============================] - 1s 826us/step - loss: 0.5362 - accuracy: 0.7376\n",
            "Epoch 28/50\n",
            "804/804 [==============================] - 1s 831us/step - loss: 0.5360 - accuracy: 0.7391\n",
            "Epoch 29/50\n",
            "804/804 [==============================] - 1s 822us/step - loss: 0.5357 - accuracy: 0.7385\n",
            "Epoch 30/50\n",
            "804/804 [==============================] - 1s 822us/step - loss: 0.5351 - accuracy: 0.7394\n",
            "Epoch 31/50\n",
            "804/804 [==============================] - 1s 827us/step - loss: 0.5350 - accuracy: 0.7397\n",
            "Epoch 32/50\n",
            "804/804 [==============================] - 1s 838us/step - loss: 0.5344 - accuracy: 0.7383\n",
            "Epoch 33/50\n",
            "804/804 [==============================] - 1s 843us/step - loss: 0.5347 - accuracy: 0.7387\n",
            "Epoch 34/50\n",
            "804/804 [==============================] - 1s 829us/step - loss: 0.5342 - accuracy: 0.7389\n",
            "Epoch 35/50\n",
            "804/804 [==============================] - 1s 822us/step - loss: 0.5339 - accuracy: 0.7395\n",
            "Epoch 36/50\n",
            "804/804 [==============================] - 1s 834us/step - loss: 0.5343 - accuracy: 0.7379\n",
            "Epoch 37/50\n",
            "804/804 [==============================] - 1s 845us/step - loss: 0.5341 - accuracy: 0.7404\n",
            "Epoch 38/50\n",
            "804/804 [==============================] - 1s 879us/step - loss: 0.5337 - accuracy: 0.7392\n",
            "Epoch 39/50\n",
            "804/804 [==============================] - 1s 863us/step - loss: 0.5337 - accuracy: 0.7397\n",
            "Epoch 40/50\n",
            "804/804 [==============================] - 1s 855us/step - loss: 0.5339 - accuracy: 0.7403\n",
            "Epoch 41/50\n",
            "804/804 [==============================] - 1s 827us/step - loss: 0.5332 - accuracy: 0.7401\n",
            "Epoch 42/50\n",
            "804/804 [==============================] - 1s 828us/step - loss: 0.5332 - accuracy: 0.7397\n",
            "Epoch 43/50\n",
            "804/804 [==============================] - 1s 811us/step - loss: 0.5327 - accuracy: 0.7404\n",
            "Epoch 44/50\n",
            "804/804 [==============================] - 1s 808us/step - loss: 0.5329 - accuracy: 0.7406\n",
            "Epoch 45/50\n",
            "804/804 [==============================] - 1s 849us/step - loss: 0.5330 - accuracy: 0.7400\n",
            "Epoch 46/50\n",
            "804/804 [==============================] - 1s 818us/step - loss: 0.5321 - accuracy: 0.7391\n",
            "Epoch 47/50\n",
            "804/804 [==============================] - 1s 811us/step - loss: 0.5327 - accuracy: 0.7409\n",
            "Epoch 48/50\n",
            "804/804 [==============================] - 1s 817us/step - loss: 0.5320 - accuracy: 0.7418\n",
            "Epoch 49/50\n",
            "804/804 [==============================] - 1s 829us/step - loss: 0.5326 - accuracy: 0.7412\n",
            "Epoch 50/50\n",
            "804/804 [==============================] - 1s 815us/step - loss: 0.5323 - accuracy: 0.7413\n"
          ]
        },
        {
          "data": {
            "text/plain": [
              "<keras.callbacks.History at 0x287157e7b08>"
            ]
          },
          "execution_count": 60,
          "metadata": {},
          "output_type": "execute_result"
        }
      ],
      "source": [
        "# Fit the model using 50 epochs and the training data\n",
        "# YOUR CODE HERE\n",
        "epochs = 50\n",
        "nn.fit(X_train_scaled, y_train, epochs=epochs)\n"
      ]
    },
    {
      "attachments": {},
      "cell_type": "markdown",
      "metadata": {
        "id": "JIbFSQ-FURsI"
      },
      "source": [
        "### Step 3: Evaluate the model using the test data to determine the model’s loss and accuracy.\n"
      ]
    },
    {
      "cell_type": "code",
      "execution_count": 61,
      "metadata": {
        "id": "rWaHGdGrURsI"
      },
      "outputs": [
        {
          "ename": "SyntaxError",
          "evalue": "invalid syntax (579511478.py, line 2)",
          "output_type": "error",
          "traceback": [
            "\u001b[1;36m  File \u001b[1;32m\"C:\\Users\\jakes\\AppData\\Local\\Temp\\ipykernel_21536\\579511478.py\"\u001b[1;36m, line \u001b[1;32m2\u001b[0m\n\u001b[1;33m    model_loss, model_accuracy = # YOUR CODE HERE\u001b[0m\n\u001b[1;37m                                                 ^\u001b[0m\n\u001b[1;31mSyntaxError\u001b[0m\u001b[1;31m:\u001b[0m invalid syntax\n"
          ]
        }
      ],
      "source": [
        "# Evaluate the model loss and accuracy metrics using the evaluate method and the test data\n",
        "model_loss, model_accuracy = # YOUR CODE HERE\n",
        "\n",
        "# Display the model loss and accuracy results\n",
        "print(f\"Loss: {model_loss}, Accuracy: {model_accuracy}\")"
      ]
    },
    {
      "attachments": {},
      "cell_type": "markdown",
      "metadata": {
        "id": "ppT2iIP5URsJ"
      },
      "source": [
        "### Step 4: Save and export your model to an HDF5 file, and name the file `AlphabetSoup.h5`. \n"
      ]
    },
    {
      "cell_type": "code",
      "execution_count": null,
      "metadata": {
        "id": "iOuA28RQURsJ"
      },
      "outputs": [],
      "source": [
        "# Set the model's file path\n",
        "file_path = # YOUR CODE HERE\n",
        "\n",
        "# Export your model to a HDF5 file\n",
        "# YOUR CODE HERE\n"
      ]
    },
    {
      "attachments": {},
      "cell_type": "markdown",
      "metadata": {
        "id": "xlN5E4WfURsJ"
      },
      "source": [
        "---\n",
        "\n",
        "## Optimize the neural network model\n"
      ]
    },
    {
      "attachments": {},
      "cell_type": "markdown",
      "metadata": {
        "id": "0q7pN2XKURsJ"
      },
      "source": [
        "### Step 1: Define at least three new deep neural network models (resulting in the original plus 3 optimization attempts). With each, try to improve on your first model’s predictive accuracy.\n",
        "\n",
        "> **Rewind** Recall that perfect accuracy has a value of 1, so accuracy improves as its value moves closer to 1. To optimize your model for a predictive accuracy as close to 1 as possible, you can use any or all of the following techniques:\n",
        ">\n",
        "> * Adjust the input data by dropping different features columns to ensure that no variables or outliers confuse the model.\n",
        ">\n",
        "> * Add more neurons (nodes) to a hidden layer.\n",
        ">\n",
        "> * Add more hidden layers.\n",
        ">\n",
        "> * Use different activation functions for the hidden layers.\n",
        ">\n",
        "> * Add to or reduce the number of epochs in the training regimen.\n"
      ]
    },
    {
      "attachments": {},
      "cell_type": "markdown",
      "metadata": {
        "id": "slhZ-iS1URsJ"
      },
      "source": [
        "### Alternative Model 1"
      ]
    },
    {
      "cell_type": "code",
      "execution_count": null,
      "metadata": {
        "id": "zqbrMOgCURsJ"
      },
      "outputs": [],
      "source": [
        "# Define the the number of inputs (features) to the model\n",
        "number_input_features = len(X_train.iloc[0])\n",
        "\n",
        "# Review the number of features\n",
        "number_input_features"
      ]
    },
    {
      "cell_type": "code",
      "execution_count": null,
      "metadata": {
        "id": "U3rrh76sURsJ"
      },
      "outputs": [],
      "source": [
        "# Define the number of neurons in the output layer\n",
        "number_output_neurons_A1 = # YOUR CODE HERE"
      ]
    },
    {
      "cell_type": "code",
      "execution_count": null,
      "metadata": {
        "id": "lMOrWGBKURsJ"
      },
      "outputs": [],
      "source": [
        "# Define the number of hidden nodes for the first hidden layer\n",
        "hidden_nodes_layer1_A1 = # YOUR CODE HERE\n",
        "\n",
        "# Review the number of hidden nodes in the first layer\n",
        "hidden_nodes_layer1_A1"
      ]
    },
    {
      "cell_type": "code",
      "execution_count": null,
      "metadata": {
        "id": "efNsx7TfURsK"
      },
      "outputs": [],
      "source": [
        "# Create the Sequential model instance\n",
        "nn_A1 = # YOUR CODE HERE"
      ]
    },
    {
      "cell_type": "code",
      "execution_count": null,
      "metadata": {
        "id": "0uMhdXQWURsK"
      },
      "outputs": [],
      "source": [
        "# First hidden layer\n",
        "# YOUR CODE HERE\n",
        "\n",
        "\n",
        "# Output layer\n",
        "# YOUR CODE HERE\n",
        "\n",
        "\n",
        "# Check the structure of the model\n",
        "# YOUR CODE HERE"
      ]
    },
    {
      "cell_type": "code",
      "execution_count": null,
      "metadata": {
        "id": "2gDpRhG7URsK"
      },
      "outputs": [],
      "source": [
        "# Compile the Sequential model\n",
        "nn_A1.# YOUR CODE HERE\n"
      ]
    },
    {
      "cell_type": "code",
      "execution_count": null,
      "metadata": {
        "id": "zE4UD4NyURsK"
      },
      "outputs": [],
      "source": [
        "# Fit the model using 50 epochs and the training data\n",
        "fit_model_A1 = # YOUR CODE HERE\n"
      ]
    },
    {
      "attachments": {},
      "cell_type": "markdown",
      "metadata": {
        "id": "aMZAmHrlURsK"
      },
      "source": [
        "#### Alternative Model 2"
      ]
    },
    {
      "cell_type": "code",
      "execution_count": null,
      "metadata": {
        "id": "Mw0cxkvOURsK"
      },
      "outputs": [],
      "source": [
        "# Define the the number of inputs (features) to the model\n",
        "number_input_features = len(X_train.iloc[0])\n",
        "\n",
        "# Review the number of features\n",
        "number_input_features"
      ]
    },
    {
      "cell_type": "code",
      "execution_count": null,
      "metadata": {
        "id": "qnLSrAKJURsK"
      },
      "outputs": [],
      "source": [
        "# Define the number of neurons in the output layer\n",
        "number_output_neurons_A2 = # YOUR CODE HERE"
      ]
    },
    {
      "cell_type": "code",
      "execution_count": null,
      "metadata": {
        "id": "myK4iGVBURsK"
      },
      "outputs": [],
      "source": [
        "# Define the number of hidden nodes for the first hidden layer\n",
        "hidden_nodes_layer1_A2 = # YOUR CODE HERE\n",
        "\n",
        "# Review the number of hidden nodes in the first layer\n",
        "hidden_nodes_layer1_A2"
      ]
    },
    {
      "cell_type": "code",
      "execution_count": null,
      "metadata": {
        "id": "lB6J98OSURsL"
      },
      "outputs": [],
      "source": [
        "# Create the Sequential model instance\n",
        "nn_A2 = # YOUR CODE HERE"
      ]
    },
    {
      "cell_type": "code",
      "execution_count": null,
      "metadata": {
        "id": "EX5HLuh9URsL"
      },
      "outputs": [],
      "source": [
        "# First hidden layer\n",
        "# YOUR CODE HERE\n",
        "\n",
        "# Output layer\n",
        "# YOUR CODE HERE\n",
        "\n",
        "# Check the structure of the model\n",
        "# YOUR CODE HERE\n"
      ]
    },
    {
      "cell_type": "code",
      "execution_count": null,
      "metadata": {
        "id": "JrI6zrIRURsL"
      },
      "outputs": [],
      "source": [
        "# Compile the model\n",
        "# YOUR CODE HERE\n"
      ]
    },
    {
      "cell_type": "code",
      "execution_count": null,
      "metadata": {
        "id": "8M3fXVn_URsL"
      },
      "outputs": [],
      "source": [
        "# Fit the model\n",
        "# YOUR CODE HERE\n"
      ]
    },
    {
      "attachments": {},
      "cell_type": "markdown",
      "metadata": {
        "id": "JkA48Z4hURsL"
      },
      "source": [
        "### Step 2: After finishing your models, display the accuracy scores achieved by each model, and compare the results."
      ]
    },
    {
      "cell_type": "code",
      "execution_count": null,
      "metadata": {
        "id": "RXhF6K8SURsL"
      },
      "outputs": [],
      "source": [
        "print(\"Original Model Results\")\n",
        "\n",
        "# Evaluate the model loss and accuracy metrics using the evaluate method and the test data\n",
        "model_loss, model_accuracy = # YOUR CODE HERE\n",
        "\n",
        "# Display the model loss and accuracy results\n",
        "print(f\"Loss: {model_loss}, Accuracy: {model_accuracy}\")"
      ]
    },
    {
      "cell_type": "code",
      "execution_count": null,
      "metadata": {
        "id": "W52oclvkURsL"
      },
      "outputs": [],
      "source": [
        "print(\"Alternative Model 1 Results\")\n",
        "\n",
        "# Evaluate the model loss and accuracy metrics using the evaluate method and the test data\n",
        "model_loss, model_accuracy =# YOUR CODE HERE\n",
        "\n",
        "# Display the model loss and accuracy results\n",
        "print(f\"Loss: {model_loss}, Accuracy: {model_accuracy}\")"
      ]
    },
    {
      "cell_type": "code",
      "execution_count": null,
      "metadata": {
        "id": "4yPtU8_nURsL"
      },
      "outputs": [],
      "source": [
        "print(\"Alternative Model 2 Results\")\n",
        "\n",
        "# Evaluate the model loss and accuracy metrics using the evaluate method and the test data\n",
        "model_loss, model_accuracy = # YOUR CODE HERE\n",
        "\n",
        "# Display the model loss and accuracy results\n",
        "print(f\"Loss: {model_loss}, Accuracy: {model_accuracy}\")"
      ]
    },
    {
      "attachments": {},
      "cell_type": "markdown",
      "metadata": {
        "id": "eQ3b2y7OURsM"
      },
      "source": [
        "### Step 3: Save each of your alternative models as an HDF5 file.\n"
      ]
    },
    {
      "cell_type": "code",
      "execution_count": null,
      "metadata": {
        "id": "a1tXiNBZURsM"
      },
      "outputs": [],
      "source": [
        "# Set the file path for the first alternative model\n",
        "file_path = # YOUR CODE HERE\n",
        "\n",
        "# Export your model to a HDF5 file\n",
        "# YOUR CODE HERE\n"
      ]
    },
    {
      "cell_type": "code",
      "execution_count": null,
      "metadata": {
        "id": "W9KTZW35URsM"
      },
      "outputs": [],
      "source": [
        "# Set the file path for the second alternative model\n",
        "file_path = # YOUR CODE HERE\n",
        "\n",
        "# Export your model to a HDF5 file\n",
        "# YOUR CODE HERE\n"
      ]
    },
    {
      "cell_type": "code",
      "execution_count": null,
      "metadata": {
        "id": "IiQ2lyQuURsM"
      },
      "outputs": [],
      "source": []
    }
  ],
  "metadata": {
    "colab": {
      "name": "venture_funding_with_deep_learning.ipynb",
      "provenance": []
    },
    "kernelspec": {
      "display_name": "Python 3",
      "language": "python",
      "name": "python3"
    },
    "language_info": {
      "codemirror_mode": {
        "name": "ipython",
        "version": 3
      },
      "file_extension": ".py",
      "mimetype": "text/x-python",
      "name": "python",
      "nbconvert_exporter": "python",
      "pygments_lexer": "ipython3",
      "version": "3.7.13"
    }
  },
  "nbformat": 4,
  "nbformat_minor": 0
}
